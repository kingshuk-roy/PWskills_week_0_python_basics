{
  "nbformat": 4,
  "nbformat_minor": 0,
  "metadata": {
    "colab": {
      "provenance": []
    },
    "kernelspec": {
      "name": "python3",
      "display_name": "Python 3"
    },
    "language_info": {
      "name": "python"
    }
  },
  "cells": [
    {
      "cell_type": "code",
      "execution_count": 3,
      "metadata": {
        "colab": {
          "base_uri": "https://localhost:8080/"
        },
        "id": "V7N4QviYFDiP",
        "outputId": "d76179e2-c32b-4150-eca9-620adfc2fff6"
      },
      "outputs": [
        {
          "output_type": "execute_result",
          "data": {
            "text/plain": [
              "str"
            ]
          },
          "metadata": {},
          "execution_count": 3
        }
      ],
      "source": [
        "# Q1. Create one variable containing following type of data:\n",
        "# (i) string\n",
        "# (ii) list\n",
        "# (iii) float\n",
        "# (iv) tuple\n",
        "K=[\"kingshuk\",[1,5,9],2.75389,(1,4,6)]\n",
        "type(K[0])\n",
        "# for i in K:\n",
        "#   print(i,\":  \" ,type(i))"
      ]
    },
    {
      "cell_type": "code",
      "source": [
        "type(K[1])"
      ],
      "metadata": {
        "colab": {
          "base_uri": "https://localhost:8080/"
        },
        "id": "zXbg8g2HUsx-",
        "outputId": "b71e3e13-9b6b-48d6-d3f6-6e2ce4592617"
      },
      "execution_count": 4,
      "outputs": [
        {
          "output_type": "execute_result",
          "data": {
            "text/plain": [
              "list"
            ]
          },
          "metadata": {},
          "execution_count": 4
        }
      ]
    },
    {
      "cell_type": "code",
      "source": [
        "type(K[2])"
      ],
      "metadata": {
        "colab": {
          "base_uri": "https://localhost:8080/"
        },
        "id": "LBHLHJ-WU4vQ",
        "outputId": "c70ec9ae-3c2e-4912-f48b-ae219b076714"
      },
      "execution_count": 5,
      "outputs": [
        {
          "output_type": "execute_result",
          "data": {
            "text/plain": [
              "float"
            ]
          },
          "metadata": {},
          "execution_count": 5
        }
      ]
    },
    {
      "cell_type": "code",
      "source": [
        "type(K[3])"
      ],
      "metadata": {
        "colab": {
          "base_uri": "https://localhost:8080/"
        },
        "id": "KMQwqUMzU-gm",
        "outputId": "cf2cdbc9-e29c-449c-a76c-7925182ad61d"
      },
      "execution_count": 6,
      "outputs": [
        {
          "output_type": "execute_result",
          "data": {
            "text/plain": [
              "tuple"
            ]
          },
          "metadata": {},
          "execution_count": 6
        }
      ]
    },
    {
      "cell_type": "code",
      "source": [
        "# Q2. Given are some following variables containing data:\n",
        "# (i) var1 = ‘ ‘\n",
        "# (ii) var2 = ‘[ DS , ML , Python]’\n",
        "# (iii) var3 = [ ‘DS’ , ’ML’ , ‘Python’ ]\n",
        "# (iv) var4 = 1.\n",
        "#What will be the data type of the above given variable.\n",
        "\n",
        "\n",
        "A='pwskills'                # Here A is a \"string type variable\"\n",
        "B='[DS,ML,Python]'          # Here B is a \"string type variable\"\n",
        "C=['DS','ML','Python']      # Here C is a \"list type variable\"\n",
        "D=1.                        # Here D is a \"float type variable\"\n",
        "for i in (A,B,C,D):\n",
        "  print(f\"Data_type of {i} is {type(i)}\")"
      ],
      "metadata": {
        "id": "QTvYK7F4GhZj",
        "colab": {
          "base_uri": "https://localhost:8080/"
        },
        "outputId": "d3b7cc98-7b5c-4580-be67-c24e52569d71"
      },
      "execution_count": 7,
      "outputs": [
        {
          "output_type": "stream",
          "name": "stdout",
          "text": [
            "Data_type of pwskills is <class 'str'>\n",
            "Data_type of [DS,ML,Python] is <class 'str'>\n",
            "Data_type of ['DS', 'ML', 'Python'] is <class 'list'>\n",
            "Data_type of 1.0 is <class 'float'>\n"
          ]
        }
      ]
    },
    {
      "cell_type": "code",
      "source": [
        "# Q3. Explain the use of the following operators using an example:\n",
        "# (i) /\n",
        "# (ii) %\n",
        "# (iii) //\n",
        "# (iv) **\n",
        "a=10\n",
        "b=5\n",
        "a/b     # a Division b  "
      ],
      "metadata": {
        "colab": {
          "base_uri": "https://localhost:8080/"
        },
        "id": "SCUOGYk9LK4s",
        "outputId": "490579c9-a83a-49e9-ea37-4dda3176b969"
      },
      "execution_count": 8,
      "outputs": [
        {
          "output_type": "execute_result",
          "data": {
            "text/plain": [
              "2.0"
            ]
          },
          "metadata": {},
          "execution_count": 8
        }
      ]
    },
    {
      "cell_type": "code",
      "source": [
        "p=50\n",
        "q=5\n",
        "p%q     # p Modulus q"
      ],
      "metadata": {
        "colab": {
          "base_uri": "https://localhost:8080/"
        },
        "id": "EO096UnxMp-E",
        "outputId": "405e1786-2356-47ca-8983-a33671a49646"
      },
      "execution_count": 9,
      "outputs": [
        {
          "output_type": "execute_result",
          "data": {
            "text/plain": [
              "0"
            ]
          },
          "metadata": {},
          "execution_count": 9
        }
      ]
    },
    {
      "cell_type": "code",
      "source": [
        "p=20\n",
        "q=5\n",
        "p//q    # p Floor division q"
      ],
      "metadata": {
        "colab": {
          "base_uri": "https://localhost:8080/"
        },
        "id": "cKNq4gVISybT",
        "outputId": "b6409acd-f6e5-449c-e79b-784ee72c2812"
      },
      "execution_count": 10,
      "outputs": [
        {
          "output_type": "execute_result",
          "data": {
            "text/plain": [
              "4"
            ]
          },
          "metadata": {},
          "execution_count": 10
        }
      ]
    },
    {
      "cell_type": "code",
      "source": [
        "j=5\n",
        "k=2\n",
        "j**k    # j to the power k    "
      ],
      "metadata": {
        "colab": {
          "base_uri": "https://localhost:8080/"
        },
        "id": "wxX_4st1S0fD",
        "outputId": "d366f84e-aba6-455c-8d10-a98daec60bec"
      },
      "execution_count": 11,
      "outputs": [
        {
          "output_type": "execute_result",
          "data": {
            "text/plain": [
              "25"
            ]
          },
          "metadata": {},
          "execution_count": 11
        }
      ]
    },
    {
      "cell_type": "code",
      "source": [
        "# Q4. Create a list of length 10 of your choice containing multiple types of data. Using for loop print the element and its data type.\n",
        "l=[\"pwskills\",[1,212,556],(1,5,6),False,2.5656,6+3j,{\"name\" : \"John\", \"age\" : 36},{\"apple\", \"banana\", \"cherry\"},1947,None]\n",
        "for i in l:\n",
        "  print(i,\" :    \",type(i))"
      ],
      "metadata": {
        "colab": {
          "base_uri": "https://localhost:8080/"
        },
        "id": "UqJysFoDS2Qz",
        "outputId": "2f9e8dcc-1553-486e-93b4-c43fd7343c1e"
      },
      "execution_count": 12,
      "outputs": [
        {
          "output_type": "stream",
          "name": "stdout",
          "text": [
            "pwskills  :     <class 'str'>\n",
            "[1, 212, 556]  :     <class 'list'>\n",
            "(1, 5, 6)  :     <class 'tuple'>\n",
            "False  :     <class 'bool'>\n",
            "2.5656  :     <class 'float'>\n",
            "(6+3j)  :     <class 'complex'>\n",
            "{'name': 'John', 'age': 36}  :     <class 'dict'>\n",
            "{'apple', 'cherry', 'banana'}  :     <class 'set'>\n",
            "1947  :     <class 'int'>\n",
            "None  :     <class 'NoneType'>\n"
          ]
        }
      ]
    },
    {
      "cell_type": "code",
      "source": [
        "# Q5. Using a while loop, verify if the number A is purely divisible by number B and if so then how many times it can be divisible.\n",
        "a=int(input(\"enter your number: \"))\n",
        "b=int(input(\"enter your number: \"))\n",
        "count=0\n",
        "if a%b==0:\n",
        "  while a>=b and a%b==0:\n",
        "      count+=1\n",
        "      a=a/b\n",
        "  print(f\"divisible {count} times\")    \n",
        "else:\n",
        "  print(\"not divisible\")\n"
      ],
      "metadata": {
        "colab": {
          "base_uri": "https://localhost:8080/"
        },
        "id": "inW8VPBXei7P",
        "outputId": "ecbd6b23-9e91-467b-cb10-5e7a70fc5d86"
      },
      "execution_count": 13,
      "outputs": [
        {
          "output_type": "stream",
          "name": "stdout",
          "text": [
            "enter your number: 20\n",
            "enter your number: 4\n",
            "divisible 1 times\n"
          ]
        }
      ]
    },
    {
      "cell_type": "code",
      "source": [
        "#Q6. Create a list containing 25 int type data. Using for loop and if-else condition print if the element is divisible by 3 or not.\n",
        "l1=[]\n",
        "for i in range(1,26):\n",
        "  l1.append(i)\n",
        "print(l1)\n",
        "for j in l1:\n",
        "  if j%3==0:\n",
        "    print(j,\"is devisible by 3\")\n",
        "  else :\n",
        "    print(j,\"is not-divisible by 3\")\n"
      ],
      "metadata": {
        "colab": {
          "base_uri": "https://localhost:8080/"
        },
        "id": "bjoL-y1ogboq",
        "outputId": "24d29964-dd55-46e4-cff8-48db816e6d58"
      },
      "execution_count": 14,
      "outputs": [
        {
          "output_type": "stream",
          "name": "stdout",
          "text": [
            "[1, 2, 3, 4, 5, 6, 7, 8, 9, 10, 11, 12, 13, 14, 15, 16, 17, 18, 19, 20, 21, 22, 23, 24, 25]\n",
            "1 is not-divisible by 3\n",
            "2 is not-divisible by 3\n",
            "3 is devisible by 3\n",
            "4 is not-divisible by 3\n",
            "5 is not-divisible by 3\n",
            "6 is devisible by 3\n",
            "7 is not-divisible by 3\n",
            "8 is not-divisible by 3\n",
            "9 is devisible by 3\n",
            "10 is not-divisible by 3\n",
            "11 is not-divisible by 3\n",
            "12 is devisible by 3\n",
            "13 is not-divisible by 3\n",
            "14 is not-divisible by 3\n",
            "15 is devisible by 3\n",
            "16 is not-divisible by 3\n",
            "17 is not-divisible by 3\n",
            "18 is devisible by 3\n",
            "19 is not-divisible by 3\n",
            "20 is not-divisible by 3\n",
            "21 is devisible by 3\n",
            "22 is not-divisible by 3\n",
            "23 is not-divisible by 3\n",
            "24 is devisible by 3\n",
            "25 is not-divisible by 3\n"
          ]
        }
      ]
    },
    {
      "cell_type": "code",
      "source": [
        "#Q7. What do you understand about mutable and immutable data types? Give examples for both showing this property.\n",
        "r=[\"kingshuk\",\"pwskills\"]       \n",
        "r[0]='roy'        \n",
        "print(r)\n",
        "                          # Here 'r' is an list, so 'r' is a mutable data type\n",
        "                          # we can change index's of list(r)"
      ],
      "metadata": {
        "colab": {
          "base_uri": "https://localhost:8080/"
        },
        "id": "1A1Lrs9Yr93Y",
        "outputId": "f225227f-0d87-4977-f418-a22fe957a006"
      },
      "execution_count": 15,
      "outputs": [
        {
          "output_type": "stream",
          "name": "stdout",
          "text": [
            "['roy', 'pwskills']\n"
          ]
        }
      ]
    },
    {
      "cell_type": "code",
      "source": [
        "p=(\"apple\", \"banana\", \"cherry\")\n",
        "p[0]=\"pitch\"              # Here yje error occure because 'p' is a tuple and tupple is immutable data type\n",
        "p                          # we cann't change index's of list(p)"
      ],
      "metadata": {
        "colab": {
          "base_uri": "https://localhost:8080/",
          "height": 200
        },
        "id": "yXJp4iRlUn3w",
        "outputId": "708237e8-a44a-4a08-85ed-17527ce614b6"
      },
      "execution_count": 16,
      "outputs": [
        {
          "output_type": "error",
          "ename": "TypeError",
          "evalue": "ignored",
          "traceback": [
            "\u001b[0;31m---------------------------------------------------------------------------\u001b[0m",
            "\u001b[0;31mTypeError\u001b[0m                                 Traceback (most recent call last)",
            "\u001b[0;32m<ipython-input-16-a0b9ab2afdb9>\u001b[0m in \u001b[0;36m<cell line: 2>\u001b[0;34m()\u001b[0m\n\u001b[1;32m      1\u001b[0m \u001b[0mp\u001b[0m\u001b[0;34m=\u001b[0m\u001b[0;34m(\u001b[0m\u001b[0;34m\"apple\"\u001b[0m\u001b[0;34m,\u001b[0m \u001b[0;34m\"banana\"\u001b[0m\u001b[0;34m,\u001b[0m \u001b[0;34m\"cherry\"\u001b[0m\u001b[0;34m)\u001b[0m\u001b[0;34m\u001b[0m\u001b[0;34m\u001b[0m\u001b[0m\n\u001b[0;32m----> 2\u001b[0;31m \u001b[0mp\u001b[0m\u001b[0;34m[\u001b[0m\u001b[0;36m0\u001b[0m\u001b[0;34m]\u001b[0m\u001b[0;34m=\u001b[0m\u001b[0;34m\"pitch\"\u001b[0m              \u001b[0;31m# Here yje error occure because 'p' is a tuple and tupple is immutable data type\u001b[0m\u001b[0;34m\u001b[0m\u001b[0;34m\u001b[0m\u001b[0m\n\u001b[0m\u001b[1;32m      3\u001b[0m \u001b[0mp\u001b[0m                          \u001b[0;31m# we cann't change index's of list(p)\u001b[0m\u001b[0;34m\u001b[0m\u001b[0;34m\u001b[0m\u001b[0m\n",
            "\u001b[0;31mTypeError\u001b[0m: 'tuple' object does not support item assignment"
          ]
        }
      ]
    }
  ]
}